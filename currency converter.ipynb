{
 "cells": [
  {
   "cell_type": "code",
   "execution_count": 1,
   "id": "1fb42442",
   "metadata": {},
   "outputs": [],
   "source": [
    "#pip install customtkinter"
   ]
  },
  {
   "cell_type": "code",
   "execution_count": 2,
   "id": "507e758e",
   "metadata": {},
   "outputs": [],
   "source": [
    "import customtkinter\n",
    "import requests"
   ]
  },
  {
   "cell_type": "code",
   "execution_count": 3,
   "id": "ed6a3d54",
   "metadata": {},
   "outputs": [
    {
     "name": "stderr",
     "output_type": "stream",
     "text": [
      "Exception in Tkinter callback\n",
      "Traceback (most recent call last):\n",
      "  File \"c:\\Users\\Pragya\\AppData\\Local\\Programs\\Python\\Python311\\Lib\\tkinter\\__init__.py\", line 1948, in __call__\n",
      "    return self.func(*args)\n",
      "           ^^^^^^^^^^^^^^^^\n",
      "  File \"c:\\Users\\Pragya\\AppData\\Local\\Programs\\Python\\Python311\\Lib\\site-packages\\customtkinter\\windows\\widgets\\ctk_button.py\", line 554, in _clicked\n",
      "    self._command()\n",
      "  File \"C:\\Users\\Pragya\\AppData\\Local\\Temp\\ipykernel_8816\\4032343935.py\", line 26, in currency_converter\n",
      "    label2.configure(text=\"    \" + str(response.json()['rates'][to_currency])+\" \"+to_currency+\"    \")\n",
      "                                       ~~~~~~~~~~~~~~~^^^^^^^^^\n",
      "KeyError: 'rates'\n",
      "Exception in Tkinter callback\n",
      "Traceback (most recent call last):\n",
      "  File \"c:\\Users\\Pragya\\AppData\\Local\\Programs\\Python\\Python311\\Lib\\tkinter\\__init__.py\", line 1948, in __call__\n",
      "    return self.func(*args)\n",
      "           ^^^^^^^^^^^^^^^^\n",
      "  File \"c:\\Users\\Pragya\\AppData\\Local\\Programs\\Python\\Python311\\Lib\\site-packages\\customtkinter\\windows\\widgets\\ctk_button.py\", line 554, in _clicked\n",
      "    self._command()\n",
      "  File \"C:\\Users\\Pragya\\AppData\\Local\\Temp\\ipykernel_8816\\4032343935.py\", line 26, in currency_converter\n",
      "    label2.configure(text=\"    \" + str(response.json()['rates'][to_currency])+\" \"+to_currency+\"    \")\n",
      "                                       ~~~~~~~~~~~~~~~^^^^^^^^^\n",
      "KeyError: 'rates'\n",
      "Exception in Tkinter callback\n",
      "Traceback (most recent call last):\n",
      "  File \"c:\\Users\\Pragya\\AppData\\Local\\Programs\\Python\\Python311\\Lib\\tkinter\\__init__.py\", line 1948, in __call__\n",
      "    return self.func(*args)\n",
      "           ^^^^^^^^^^^^^^^^\n",
      "  File \"c:\\Users\\Pragya\\AppData\\Local\\Programs\\Python\\Python311\\Lib\\site-packages\\customtkinter\\windows\\widgets\\ctk_button.py\", line 554, in _clicked\n",
      "    self._command()\n",
      "  File \"C:\\Users\\Pragya\\AppData\\Local\\Temp\\ipykernel_8816\\4032343935.py\", line 26, in currency_converter\n",
      "    label2.configure(text=\"    \" + str(response.json()['rates'][to_currency])+\" \"+to_currency+\"    \")\n",
      "                                       ~~~~~~~~~~~~~~~^^^^^^^^^\n",
      "KeyError: 'rates'\n",
      "Exception in Tkinter callback\n",
      "Traceback (most recent call last):\n",
      "  File \"c:\\Users\\Pragya\\AppData\\Local\\Programs\\Python\\Python311\\Lib\\tkinter\\__init__.py\", line 1948, in __call__\n",
      "    return self.func(*args)\n",
      "           ^^^^^^^^^^^^^^^^\n",
      "  File \"c:\\Users\\Pragya\\AppData\\Local\\Programs\\Python\\Python311\\Lib\\site-packages\\customtkinter\\windows\\widgets\\ctk_button.py\", line 554, in _clicked\n",
      "    self._command()\n",
      "  File \"C:\\Users\\Pragya\\AppData\\Local\\Temp\\ipykernel_8816\\4032343935.py\", line 26, in currency_converter\n",
      "    label2.configure(text=\"    \" + str(response.json()['rates'][to_currency])+\" \"+to_currency+\"    \")\n",
      "                                       ~~~~~~~~~~~~~~~^^^^^^^^^\n",
      "KeyError: 'rates'\n"
     ]
    }
   ],
   "source": [
    "# root=tkinter.Tk()\n",
    "# label= tkinter.Label(root,)\n",
    "# label.pack()\n",
    "\n",
    "customtkinter.set_appearance_mode(\"light\")\n",
    "customtkinter.set_default_color_theme(\"green\")\n",
    "root = customtkinter.CTk()\n",
    "root.geometry(\"500x350\")\n",
    "\n",
    "response = requests.get(\"https://randomfox.ca/floof\")\n",
    "#print(response.status_code)\n",
    "fox = response.json()\n",
    "#print(fox)\n",
    "\n",
    "\n",
    "def currency_converter():\n",
    "    # print(\"TEST\")\n",
    "    from_currency=str(entry1.get())\n",
    "    # print(from_currency)\n",
    "    to_currency=str(entry2.get())\n",
    "    # print(to_currency)\n",
    "    amount=int(entry3.get())\n",
    "    # print(amount)\n",
    "    response=requests.get(f\"https://api.frankfurter.app/latest?amount={amount}&from={from_currency}&to={to_currency}\")\n",
    "      \n",
    "    label2.configure(text=\"    \" + str(response.json()['rates'][to_currency])+\" \"+to_currency+\"    \")\n",
    "\n",
    "\n",
    "    \n",
    "frame = customtkinter.CTkFrame(master=root)\n",
    "frame.pack(pady=20, padx=60, fill=\"both\", expand=\"True\")\n",
    "\n",
    "label = customtkinter.CTkLabel(master=frame, text=\"Currency Converter\", font=(\"Roboto\",24))\n",
    "label.pack(pady=12, padx=10)\n",
    "\n",
    "entry1 = customtkinter.CTkEntry(master=frame, placeholder_text=\"Convert From\")\n",
    "entry1.pack(pady=12, padx=10)\n",
    "\n",
    "entry2 = customtkinter.CTkEntry(master=frame, placeholder_text=\"Convert To\")\n",
    "entry2.pack(pady=12, padx=10)\n",
    "\n",
    "entry3 = customtkinter.CTkEntry(master=frame, placeholder_text=\"Amount \")\n",
    "entry3.pack(pady=12, padx=10)\n",
    "\n",
    "button = customtkinter.CTkButton(master=frame,text=\"Convert\", command=currency_converter)\n",
    "button.pack(pady=12,padx=10)\n",
    "\n",
    "label2 = customtkinter.CTkLabel(master=frame, text=\"    0.0    \", fg_color=\"White\")\n",
    "label2.pack(pady=12,padx=10)\n",
    "\n",
    "\n",
    "root.mainloop()"
   ]
  }
 ],
 "metadata": {
  "kernelspec": {
   "display_name": "Python 3 (ipykernel)",
   "language": "python",
   "name": "python3"
  },
  "language_info": {
   "codemirror_mode": {
    "name": "ipython",
    "version": 3
   },
   "file_extension": ".py",
   "mimetype": "text/x-python",
   "name": "python",
   "nbconvert_exporter": "python",
   "pygments_lexer": "ipython3",
   "version": "3.11.2"
  }
 },
 "nbformat": 4,
 "nbformat_minor": 5
}
